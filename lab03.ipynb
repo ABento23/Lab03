{
 "cells": [
  {
   "cell_type": "code",
   "execution_count": 36,
   "metadata": {},
   "outputs": [],
   "source": [
    "#list of 007 movies where Sean Connery features James Bond\n",
    "moviesSeanConnery = [\"Dr. No (1962)\", \"From Russia with Love (1963)\", \"Goldfinger (1964)\", \"Thunderball (1965)\",\n",
    "                     \"You Only Live Twice (1967)\", \"Diamonds Are Forever (1971)\", \"Never Say Never Again (1983)\"]\n",
    "\n",
    "#list of 007 movies where David Neven features James Bond\n",
    "moviesDavidNeven = [\"Casino Royale (1967)\"]\n",
    "\n",
    "#list of 007 movies where George Lazenby features James Bond\n",
    "moviesGeorgeLazenby = [\"On Her Majesty's Secret Service (1969)\"]\n",
    "\n",
    "#list of 007 movies where Roger Moore features James Bond\n",
    "moviesRogerMoore = [\"Live and Let Die (1973)\", \"The Man with the Golden Gun (1974)\", \"The Spy Who Loved Me (1977)\",\n",
    "                    \"Moonraker (1979)\", \"For Your Eyes Only (1981)\", \"Octopussy (1983)\", \"A View to a Kill (1985)\"]\n",
    "\n",
    "#list of 007 movies where Timothy Dalton features James Bond\n",
    "moviesTimothyDalton = [\"The Living Daylights (1987)\", \"Licence to Kill (1989)\"]\n",
    "\n",
    "#list of 007 movies where Pierce Brosnan features James Bond\n",
    "moviesPierceBrosnan = [\"GoldenEye (1995)\", \"Tomorrow Never Dies (1997)\", \"The World Is Not Enough (1999)\",\n",
    "                       \"Die Another Day (2002)\"]\n",
    "\n",
    "#list of 007 movies where Daniel Craig features James Bond\n",
    "moviesDanielCraig = [\"Casino Royale (2006)\", \"Quantum of Solace (2008)\", \"Skyfall (2012)\", \"Spectre (2015)\"]"
   ]
  },
  {
   "cell_type": "code",
   "execution_count": 37,
   "metadata": {},
   "outputs": [],
   "source": [
    "#1\n",
    "movies007 = [moviesSeanConnery, moviesDavidNeven, moviesGeorgeLazenby, moviesRogerMoore,\n",
    "             moviesTimothyDalton, moviesPierceBrosnan, moviesDanielCraig]"
   ]
  },
  {
   "cell_type": "code",
   "execution_count": 38,
   "metadata": {},
   "outputs": [
    {
     "data": {
      "text/plain": [
       "7"
      ]
     },
     "execution_count": 38,
     "metadata": {},
     "output_type": "execute_result"
    }
   ],
   "source": [
    "#2\n",
    "len(movies007[0])"
   ]
  },
  {
   "cell_type": "code",
   "execution_count": 39,
   "metadata": {},
   "outputs": [
    {
     "data": {
      "text/plain": [
       "4"
      ]
     },
     "execution_count": 39,
     "metadata": {},
     "output_type": "execute_result"
    }
   ],
   "source": [
    "#3\n",
    "len(movies007[-1])"
   ]
  },
  {
   "cell_type": "code",
   "execution_count": 40,
   "metadata": {},
   "outputs": [
    {
     "data": {
      "text/plain": [
       "7"
      ]
     },
     "execution_count": 40,
     "metadata": {},
     "output_type": "execute_result"
    }
   ],
   "source": [
    "#4\n",
    "len(movies007)"
   ]
  },
  {
   "cell_type": "code",
   "execution_count": 41,
   "metadata": {},
   "outputs": [
    {
     "data": {
      "text/plain": [
       "[7, 1, 1, 7, 2, 4, 4]"
      ]
     },
     "execution_count": 41,
     "metadata": {},
     "output_type": "execute_result"
    }
   ],
   "source": [
    "#5\n",
    "Nmovies = []\n",
    "for item in movies007:\n",
    "    Nmovies.append(len(item))\n",
    "\n",
    "Nmovies"
   ]
  },
  {
   "cell_type": "code",
   "execution_count": 42,
   "metadata": {},
   "outputs": [
    {
     "data": {
      "text/plain": [
       "7"
      ]
     },
     "execution_count": 42,
     "metadata": {},
     "output_type": "execute_result"
    }
   ],
   "source": [
    "#6\n",
    "max(Nmovies)"
   ]
  },
  {
   "cell_type": "code",
   "execution_count": 43,
   "metadata": {},
   "outputs": [
    {
     "data": {
      "text/plain": [
       "1"
      ]
     },
     "execution_count": 43,
     "metadata": {},
     "output_type": "execute_result"
    }
   ],
   "source": [
    "#7\n",
    "min(Nmovies)"
   ]
  },
  {
   "cell_type": "code",
   "execution_count": 51,
   "metadata": {},
   "outputs": [
    {
     "data": {
      "text/plain": [
       "['Dr. No (1962)',\n",
       " 'From Russia with Love (1963)',\n",
       " 'Goldfinger (1964)',\n",
       " 'Thunderball (1965)',\n",
       " 'You Only Live Twice (1967)',\n",
       " 'Diamonds Are Forever (1971)',\n",
       " 'Never Say Never Again (1983)',\n",
       " 'Casino Royale (1967)',\n",
       " \"On Her Majesty's Secret Service (1969)\",\n",
       " 'Live and Let Die (1973)',\n",
       " 'The Man with the Golden Gun (1974)',\n",
       " 'The Spy Who Loved Me (1977)',\n",
       " 'Moonraker (1979)',\n",
       " 'For Your Eyes Only (1981)',\n",
       " 'Octopussy (1983)',\n",
       " 'A View to a Kill (1985)',\n",
       " 'The Living Daylights (1987)',\n",
       " 'Licence to Kill (1989)',\n",
       " 'GoldenEye (1995)',\n",
       " 'Tomorrow Never Dies (1997)',\n",
       " 'The World Is Not Enough (1999)',\n",
       " 'Die Another Day (2002)',\n",
       " 'Casino Royale (2006)',\n",
       " 'Quantum of Solace (2008)',\n",
       " 'Skyfall (2012)',\n",
       " 'Spectre (2015)']"
      ]
     },
     "execution_count": 51,
     "metadata": {},
     "output_type": "execute_result"
    }
   ],
   "source": [
    "#8\n",
    "movies007a = []\n",
    "for item in movies007:\n",
    "    for film in item:\n",
    "        movies007a.append(film)\n",
    "\n",
    "movies007a"
   ]
  },
  {
   "cell_type": "code",
   "execution_count": 52,
   "metadata": {},
   "outputs": [
    {
     "data": {
      "text/plain": [
       "['A View to a Kill (1985)',\n",
       " 'Casino Royale (1967)',\n",
       " 'Casino Royale (2006)',\n",
       " 'Diamonds Are Forever (1971)',\n",
       " 'Die Another Day (2002)',\n",
       " 'Dr. No (1962)',\n",
       " 'For Your Eyes Only (1981)',\n",
       " 'From Russia with Love (1963)',\n",
       " 'GoldenEye (1995)',\n",
       " 'Goldfinger (1964)',\n",
       " 'Licence to Kill (1989)',\n",
       " 'Live and Let Die (1973)',\n",
       " 'Moonraker (1979)',\n",
       " 'Never Say Never Again (1983)',\n",
       " 'Octopussy (1983)',\n",
       " \"On Her Majesty's Secret Service (1969)\",\n",
       " 'Quantum of Solace (2008)',\n",
       " 'Skyfall (2012)',\n",
       " 'Spectre (2015)',\n",
       " 'The Living Daylights (1987)',\n",
       " 'The Man with the Golden Gun (1974)',\n",
       " 'The Spy Who Loved Me (1977)',\n",
       " 'The World Is Not Enough (1999)',\n",
       " 'Thunderball (1965)',\n",
       " 'Tomorrow Never Dies (1997)',\n",
       " 'You Only Live Twice (1967)']"
      ]
     },
     "execution_count": 52,
     "metadata": {},
     "output_type": "execute_result"
    }
   ],
   "source": [
    "#9 a)\n",
    "movies007a.sort()\n",
    "movies007a"
   ]
  },
  {
   "cell_type": "code",
   "execution_count": 53,
   "metadata": {},
   "outputs": [
    {
     "data": {
      "text/plain": [
       "['You Only Live Twice (1967)',\n",
       " 'Tomorrow Never Dies (1997)',\n",
       " 'Thunderball (1965)',\n",
       " 'The World Is Not Enough (1999)',\n",
       " 'The Spy Who Loved Me (1977)',\n",
       " 'The Man with the Golden Gun (1974)',\n",
       " 'The Living Daylights (1987)',\n",
       " 'Spectre (2015)',\n",
       " 'Skyfall (2012)',\n",
       " 'Quantum of Solace (2008)',\n",
       " \"On Her Majesty's Secret Service (1969)\",\n",
       " 'Octopussy (1983)',\n",
       " 'Never Say Never Again (1983)',\n",
       " 'Moonraker (1979)',\n",
       " 'Live and Let Die (1973)',\n",
       " 'Licence to Kill (1989)',\n",
       " 'Goldfinger (1964)',\n",
       " 'GoldenEye (1995)',\n",
       " 'From Russia with Love (1963)',\n",
       " 'For Your Eyes Only (1981)',\n",
       " 'Dr. No (1962)',\n",
       " 'Die Another Day (2002)',\n",
       " 'Diamonds Are Forever (1971)',\n",
       " 'Casino Royale (2006)',\n",
       " 'Casino Royale (1967)',\n",
       " 'A View to a Kill (1985)']"
      ]
     },
     "execution_count": 53,
     "metadata": {},
     "output_type": "execute_result"
    }
   ],
   "source": [
    "#9 b)\n",
    "movies007a.reverse()\n",
    "movies007a\n",
    "\n",
    "#Executing it twice is the same as doing nothing\n",
    "#This method cannot sort the list"
   ]
  },
  {
   "cell_type": "code",
   "execution_count": 54,
   "metadata": {},
   "outputs": [
    {
     "data": {
      "text/plain": [
       "7"
      ]
     },
     "execution_count": 54,
     "metadata": {},
     "output_type": "execute_result"
    }
   ],
   "source": [
    "#10\n",
    "movies007a.index(\"Spectre (2015)\")"
   ]
  },
  {
   "cell_type": "code",
   "execution_count": 55,
   "metadata": {},
   "outputs": [
    {
     "data": {
      "text/plain": [
       "['You Only Live Twice (1967)',\n",
       " 'Tomorrow Never Dies (1997)',\n",
       " 'Thunderball (1965)',\n",
       " 'The World Is Not Enough (1999)',\n",
       " 'The Spy Who Loved Me (1977)',\n",
       " 'The Man with the Golden Gun (1974)',\n",
       " 'The Living Daylights (1987)',\n",
       " 'Spectre (2015)',\n",
       " 'Skyfall (2012)',\n",
       " 'Quantum of Solace (2008)',\n",
       " '007 and the bad Guy of the climate change (2020)',\n",
       " \"On Her Majesty's Secret Service (1969)\",\n",
       " 'Octopussy (1983)',\n",
       " 'Never Say Never Again (1983)',\n",
       " 'Moonraker (1979)',\n",
       " 'Live and Let Die (1973)',\n",
       " 'Licence to Kill (1989)',\n",
       " 'Goldfinger (1964)',\n",
       " 'GoldenEye (1995)',\n",
       " 'From Russia with Love (1963)',\n",
       " 'For Your Eyes Only (1981)',\n",
       " 'Dr. No (1962)',\n",
       " 'Die Another Day (2002)',\n",
       " 'Diamonds Are Forever (1971)',\n",
       " 'Casino Royale (2006)',\n",
       " 'Casino Royale (1967)',\n",
       " 'A View to a Kill (1985)']"
      ]
     },
     "execution_count": 55,
     "metadata": {},
     "output_type": "execute_result"
    }
   ],
   "source": [
    "#11\n",
    "movies007a.insert(10, \"007 and the bad Guy of the climate change (2020)\")\n",
    "movies007a"
   ]
  },
  {
   "cell_type": "code",
   "execution_count": 34,
   "metadata": {},
   "outputs": [
    {
     "data": {
      "text/plain": [
       "['A View to a Kill (1985)',\n",
       " 'Casino Royale (1967)',\n",
       " 'Casino Royale (2006)',\n",
       " 'Diamonds Are Forever (1971)',\n",
       " 'Die Another Day (2002)',\n",
       " 'Dr. No (1962)',\n",
       " 'For Your Eyes Only (1981)',\n",
       " 'From Russia with Love (1963)',\n",
       " 'GoldenEye (1995)',\n",
       " 'Goldfinger (1964)',\n",
       " 'Licence to Kill (1989)',\n",
       " 'Live and Let Die (1973)',\n",
       " 'Moonraker (1979)',\n",
       " 'Never Say Never Again (1983)',\n",
       " 'Octopussy (1983)',\n",
       " \"On Her Majesty's Secret Service (1969)\",\n",
       " 'Quantum of Solace (2008)',\n",
       " 'Skyfall (2012)',\n",
       " 'Spectre (2015)',\n",
       " 'The Living Daylights (1987)',\n",
       " 'The Man with the Golden Gun (1974)',\n",
       " 'The Spy Who Loved Me (1977)',\n",
       " 'The World Is Not Enough (1999)',\n",
       " 'Thunderball (1965)',\n",
       " 'Tomorrow Never Dies (1997)',\n",
       " 'You Only Live Twice (1967)']"
      ]
     },
     "execution_count": 34,
     "metadata": {},
     "output_type": "execute_result"
    }
   ],
   "source": [
    "#12\n",
    "movies007a.remove(\"007 and the bad Guy of the climate change (2020)\")\n",
    "movies007a"
   ]
  },
  {
   "cell_type": "code",
   "execution_count": null,
   "metadata": {},
   "outputs": [],
   "source": []
  }
 ],
 "metadata": {
  "kernelspec": {
   "display_name": "Python 3",
   "language": "python",
   "name": "python3"
  },
  "language_info": {
   "codemirror_mode": {
    "name": "ipython",
    "version": 3
   },
   "file_extension": ".py",
   "mimetype": "text/x-python",
   "name": "python",
   "nbconvert_exporter": "python",
   "pygments_lexer": "ipython3",
   "version": "3.7.3"
  }
 },
 "nbformat": 4,
 "nbformat_minor": 2
}
